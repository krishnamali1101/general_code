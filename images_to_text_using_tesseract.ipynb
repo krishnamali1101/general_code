{
 "cells": [
  {
   "cell_type": "markdown",
   "metadata": {},
   "source": [
    "# Read images from folder and ocr it"
   ]
  },
  {
   "cell_type": "code",
   "execution_count": 70,
   "metadata": {},
   "outputs": [],
   "source": [
    "import cv2\n",
    "import sys\n",
    "import pytesseract\n",
    "import os\n",
    " \n",
    "def img_preprocess(imPath, thresh =False, blur=True):\n",
    "    # load the example image and convert it to grayscale\n",
    "    image = cv2.imread(imPath)\n",
    "    gray = cv2.cvtColor(image, cv2.COLOR_BGR2GRAY)\n",
    "\n",
    "    # check to see if we should apply thresholding to preprocess the image\n",
    "    if thresh:\n",
    "        gray = cv2.threshold(gray, 0, 255, cv2.THRESH_BINARY | cv2.THRESH_OTSU)[1]\n",
    "\n",
    "    #make a check to see if median blurring should be done to remove noise\n",
    "    elif blur:\n",
    "        gray = cv2.medianBlur(gray, 3)\n",
    "\n",
    "    # write the grayscale image to disk as a temporary file so we can apply OCR to it\n",
    "    # filename = \"{}.png\".format(os.getpid())\n",
    "    # cv2.imwrite(filename, gray)\n",
    "    \n",
    "    return gray\n",
    "    \n",
    "    \n",
    "def image_to_text(imPath, lang='eng', oem=1, psm=3):\n",
    "                   \n",
    "    # Uncomment the line below to provide path to tesseract manually\n",
    "    pytesseract.pytesseract.tesseract_cmd = '/usr/local/Cellar/tesseract/4.1.0/bin/tesseract'\n",
    "\n",
    "    # Define config parameters.\n",
    "    # '-l eng'  for using the English language\n",
    "    # '--oem 1' for using LSTM OCR Engine\n",
    "    # https://github.com/tesseract-ocr/tesseract/wiki/ImproveQuality#page-segmentation-method\n",
    "    # config = ('-l eng --oem 1 --psm 3')\n",
    "    config = '-l {0} --oem {1} --psm {2}'.format(lang, oem, psm)\n",
    "\n",
    "    # preprocess the input image\n",
    "    img = img_preprocess(imPath)\n",
    "    \n",
    "    # Read image from disk (uncomment the line in case of reading image from path)\n",
    "    img = cv2.imread(imPath, cv2.IMREAD_COLOR)\n",
    "\n",
    "    # Run tesseract OCR on image\n",
    "    text = pytesseract.image_to_string(img, config=config)\n",
    "\n",
    "    # return recognized text\n",
    "    return text"
   ]
  },
  {
   "cell_type": "code",
   "execution_count": 71,
   "metadata": {},
   "outputs": [],
   "source": [
    "\n",
    "# Import the os module, for the os.walk function\n",
    "import os\n",
    "import shutil\n",
    "\n",
    "def run_ocr(inDir, outDir='', supported_ext=['.png', '.jpg', '.jpeg']):\n",
    "    outDir += \"/tesseract_ocr_outout/\"\n",
    "\n",
    "    print(\"OutDir: \", outDir)\n",
    "    print('-' * 80)\n",
    "\n",
    "    # delete existing folder\n",
    "    if os.path.exists(outDir) and os.path.isdir(outDir):\n",
    "        shutil.rmtree(outDir)\n",
    "\n",
    "    # traverse root dir\n",
    "    for dirName, subdirList, fileList in os.walk(inDir):\n",
    "\n",
    "        print('Found directory: %s' % dirName)\n",
    "        for fname in fileList:\n",
    "\n",
    "            # check for supported extensions\n",
    "            file_name, ext = os.path.splitext(fname)\n",
    "            if ext in supported_ext:\n",
    "                print('\\t%s' % file_name)\n",
    "\n",
    "                relative_path = dirName.replace(inDir, '')\n",
    "                file_name1 = os.path.split(os.path.dirname(dirName + '/'))\n",
    "\n",
    "                out_file_path = outDir + '/' + dirName.replace(inDir, '')\n",
    "\n",
    "                if not os.path.exists(out_file_path):\n",
    "                    os.makedirs(out_file_path)\n",
    "\n",
    "                with open(out_file_path + '/' + file_name + '.txt', 'w') as fp:\n",
    "                    fp.write(image_to_text(dirName + '/' + fname))\n",
    "\n",
    "        print('-' * 80)"
   ]
  },
  {
   "cell_type": "code",
   "execution_count": 2,
   "metadata": {},
   "outputs": [
    {
     "data": {
      "text/plain": [
       "'images2/images3'"
      ]
     },
     "execution_count": 2,
     "metadata": {},
     "output_type": "execute_result"
    }
   ],
   "source": [
    "inDir = \"/Users/gopalmali/Desktop/CITI NLP Code /images/\"\n",
    "outDir = \"/Users/gopalmali/Desktop/CITI NLP Code /images/images2/images3\"\n",
    "\n",
    "outDir.replace(inDir,'')"
   ]
  },
  {
   "cell_type": "code",
   "execution_count": 69,
   "metadata": {},
   "outputs": [
    {
     "name": "stdout",
     "output_type": "stream",
     "text": [
      "OutDir:  /Users/gopalmali/Desktop/CITI NLP Code //tesseract_ocr_outout/\n",
      "--------------------------------------------------------------------------------\n",
      "Found directory: /Users/gopalmali/Desktop/CITI NLP Code /images/\n",
      "\taction_py\n",
      "\tconfig_yml\n",
      "\tcredentials_yml\n",
      "\tlogger_py\n",
      "--------------------------------------------------------------------------------\n",
      "Found directory: /Users/gopalmali/Desktop/CITI NLP Code /images/CLNT_MNEM\n",
      "\tScreenshot 2019-11-07 at 12.43.45 PM\n",
      "\tScreenshot 2019-11-07 at 12.43.19 PM\n",
      "--------------------------------------------------------------------------------\n",
      "Found directory: /Users/gopalmali/Desktop/CITI NLP Code /images/cls_md\n",
      "\tScreenshot 2019-11-07 at 12.42.04 PM\n",
      "\tScreenshot 2019-11-07 at 12.35.04 PM\n",
      "\tScreenshot 2019-11-07 at 12.39.39 PM\n",
      "\tScreenshot 2019-11-07 at 12.40.43 PM\n",
      "\tScreenshot 2019-11-07 at 12.41.28 PM\n",
      "--------------------------------------------------------------------------------\n",
      "Found directory: /Users/gopalmali/Desktop/CITI NLP Code /images/action_py.txt\n",
      "--------------------------------------------------------------------------------\n",
      "Found directory: /Users/gopalmali/Desktop/CITI NLP Code /images/acct_nm\n",
      "\tScreenshot 2019-11-07 at 12.32.20 PM\n",
      "\tScreenshot 2019-11-07 at 12.32.46 PM\n",
      "--------------------------------------------------------------------------------\n",
      "Found directory: /Users/gopalmali/Desktop/CITI NLP Code /images/utility_py\n",
      "\tScreenshot 2019-11-07 at 12.23.11 PM\n",
      "\tScreenshot 2019-11-07 at 12.22.07 PM\n",
      "\tScreenshot 2019-11-07 at 12.20.10 PM\n",
      "\tScreenshot 2019-11-07 at 12.18.38 PM\n",
      "\tScreenshot 2019-11-07 at 12.21.03 PM\n",
      "\tScreenshot 2019-11-07 at 12.21.37 PM\n",
      "\tScreenshot 2019-11-07 at 12.23.41 PM\n",
      "--------------------------------------------------------------------------------\n",
      "Found directory: /Users/gopalmali/Desktop/CITI NLP Code /images/custom_entity_py\n",
      "\tScreenshot 2019-11-07 at 12.29.54 PM\n",
      "\tScreenshot 2019-11-07 at 12.29.39 PM\n",
      "\tScreenshot 2019-11-07 at 12.29.06 PM\n",
      "\tScreenshot 2019-11-07 at 12.27.44 PM\n",
      "\tScreenshot 2019-11-07 at 12.26.48 PM\n",
      "--------------------------------------------------------------------------------\n"
     ]
    }
   ],
   "source": [
    "# Set the directory you want to start from\n",
    "inDir = \"/Users/gopalmali/Desktop/CITI NLP Code /images/\"\n",
    "outDir = \"/Users/gopalmali/Desktop/CITI NLP Code /\"\n",
    "\n",
    "run_ocr(inDir, outDir)"
   ]
  }
 ],
 "metadata": {
  "kernelspec": {
   "display_name": "Python 3",
   "language": "python",
   "name": "python3"
  },
  "language_info": {
   "codemirror_mode": {
    "name": "ipython",
    "version": 3
   },
   "file_extension": ".py",
   "mimetype": "text/x-python",
   "name": "python",
   "nbconvert_exporter": "python",
   "pygments_lexer": "ipython3",
   "version": "3.7.3"
  }
 },
 "nbformat": 4,
 "nbformat_minor": 4
}
